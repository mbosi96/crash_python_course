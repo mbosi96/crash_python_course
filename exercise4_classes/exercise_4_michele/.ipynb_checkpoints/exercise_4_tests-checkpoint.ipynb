{
 "cells": [
  {
   "cell_type": "markdown",
   "id": "fd83ae65",
   "metadata": {},
   "source": [
    "# Exercise 4 tests"
   ]
  },
  {
   "cell_type": "markdown",
   "id": "4aae6234",
   "metadata": {},
   "source": [
    "## Importing the necessary modules"
   ]
  },
  {
   "cell_type": "code",
   "execution_count": 1,
   "id": "7ff04e35",
   "metadata": {},
   "outputs": [],
   "source": [
    "import math # just for testing purposes\n",
    "from package_exercise_4 import exercise_35_36, exercise_4"
   ]
  },
  {
   "cell_type": "markdown",
   "id": "a7e2990c",
   "metadata": {},
   "source": [
    "## Test on the imported submodule for the prime decomposition"
   ]
  },
  {
   "cell_type": "code",
   "execution_count": 2,
   "id": "c85b1099",
   "metadata": {},
   "outputs": [
    {
     "name": "stdout",
     "output_type": "stream",
     "text": [
      "The first test on the prime decomposition was ok!\n"
     ]
    }
   ],
   "source": [
    "test_input = 30\n",
    "prime_decompostion_test_list = exercise_35.prime_decomposition_of(test_input)\n",
    "\n",
    "test_result = 1\n",
    "for val in prime_decompostion_test_list:\n",
    "    test_result *= val\n",
    "if test_result == test_input:\n",
    "    print('The first test on the prime decomposition was ok!')\n",
    "else:\n",
    "    print('Ops, something has to be fixed regarding the prime decomposition!')"
   ]
  },
  {
   "cell_type": "markdown",
   "id": "6822c58f",
   "metadata": {},
   "source": [
    "## Tests on the imported class for rational number implementation"
   ]
  },
  {
   "cell_type": "markdown",
   "id": "bee3294f",
   "metadata": {},
   "source": [
    "### Tests on ``__str__``, ``__repr__``, ``__abs__``, ``__int__``, ``__float__`` and  ``__hash__``"
   ]
  },
  {
   "cell_type": "code",
   "execution_count": 3,
   "id": "5e123d58",
   "metadata": {},
   "outputs": [
    {
     "name": "stdout",
     "output_type": "stream",
     "text": [
      "-355/113\n"
     ]
    },
    {
     "data": {
      "text/plain": [
       "'rational(-3.1415929203539825, precision=1e-5)'"
      ]
     },
     "execution_count": 3,
     "metadata": {},
     "output_type": "execute_result"
    }
   ],
   "source": [
    "rational_neg_pi = exercise_4.rational_handler(-math.pi) # creating an istance of the class\n",
    " \n",
    "print(rational_neg_pi) # overloading the print built-in function\n",
    "repr(rational_neg_pi) # overloading the string representation"
   ]
  },
  {
   "cell_type": "code",
   "execution_count": 4,
   "id": "ed5d584d",
   "metadata": {},
   "outputs": [
    {
     "name": "stdout",
     "output_type": "stream",
     "text": [
      "355/113\n"
     ]
    }
   ],
   "source": [
    "abs_val = abs(rational_neg_pi) # overloading the abs built-in function\n",
    "print(abs_val)"
   ]
  },
  {
   "cell_type": "code",
   "execution_count": 5,
   "id": "f9b5ca98",
   "metadata": {},
   "outputs": [
    {
     "name": "stdout",
     "output_type": "stream",
     "text": [
      "-4\n"
     ]
    }
   ],
   "source": [
    "int_val = int(rational_neg_pi) # overloading the int built-in function\n",
    "print(int_val)"
   ]
  },
  {
   "cell_type": "code",
   "execution_count": 6,
   "id": "552e8282",
   "metadata": {},
   "outputs": [
    {
     "name": "stdout",
     "output_type": "stream",
     "text": [
      "-3.1415929203539825\n"
     ]
    }
   ],
   "source": [
    "flt_val = float(rational_neg_pi) # overloading the float built-in function\n",
    "print(flt_val)"
   ]
  },
  {
   "cell_type": "code",
   "execution_count": 7,
   "id": "5ecfe361",
   "metadata": {},
   "outputs": [
    {
     "name": "stdout",
     "output_type": "stream",
     "text": [
      "4758154908789239305\n"
     ]
    }
   ],
   "source": [
    "hash_val = hash(rational_neg_pi) # overloading the hash built-in function\n",
    "print(hash_val)"
   ]
  },
  {
   "cell_type": "markdown",
   "id": "d067a859",
   "metadata": {},
   "source": [
    "### Tests on the arithmetic dundler operators"
   ]
  },
  {
   "cell_type": "code",
   "execution_count": 8,
   "id": "4fd122ff",
   "metadata": {},
   "outputs": [],
   "source": [
    "val_1 = exercise_4.rational_handler(48/64) # creating an istance of the class\n",
    "val_2 = exercise_4.rational_handler(32/96) # creating an other istance of the class"
   ]
  },
  {
   "cell_type": "code",
   "execution_count": 9,
   "id": "88a29da2",
   "metadata": {
    "scrolled": true
   },
   "outputs": [
    {
     "name": "stdout",
     "output_type": "stream",
     "text": [
      "13/12\n",
      "ok\n"
     ]
    }
   ],
   "source": [
    "sum_val = val_1 + val_2 # overloading the addition operator\n",
    "print(sum_val)\n",
    "if str(sum_val) == '13/12':\n",
    "    print('ok')\n",
    "else:\n",
    "    print('Error: test failed!')"
   ]
  },
  {
   "cell_type": "code",
   "execution_count": 10,
   "id": "3cbc505d",
   "metadata": {},
   "outputs": [
    {
     "name": "stdout",
     "output_type": "stream",
     "text": [
      "5/12\n",
      "ok\n"
     ]
    }
   ],
   "source": [
    "sub_val = val_1 - val_2 # overloading the subtraction operator\n",
    "print(sub_val)\n",
    "if str(sub_val) == '5/12':\n",
    "    print('ok')\n",
    "else:\n",
    "    print('Error: test failed!')    "
   ]
  },
  {
   "cell_type": "code",
   "execution_count": 11,
   "id": "24e73f8c",
   "metadata": {},
   "outputs": [
    {
     "name": "stdout",
     "output_type": "stream",
     "text": [
      "1/4\n",
      "ok\n"
     ]
    }
   ],
   "source": [
    "mul_val = val_1 * val_2 # overloading the multiplication operator\n",
    "print(mul_val)\n",
    "if str(mul_val) == '1/4':\n",
    "    print('ok')\n",
    "else:\n",
    "    print('Error: test failed!')"
   ]
  },
  {
   "cell_type": "code",
   "execution_count": 12,
   "id": "85742924",
   "metadata": {},
   "outputs": [
    {
     "name": "stdout",
     "output_type": "stream",
     "text": [
      "9/4\n",
      "ok\n"
     ]
    }
   ],
   "source": [
    "trudiv_val = val_1 / val_2 # overloading the division (float) operator\n",
    "print(trudiv_val)\n",
    "if str(trudiv_val) == '9/4':\n",
    "    print('ok')\n",
    "else:\n",
    "    print('Error: test failed!')"
   ]
  },
  {
   "cell_type": "code",
   "execution_count": 13,
   "id": "d52e0134",
   "metadata": {},
   "outputs": [
    {
     "name": "stdout",
     "output_type": "stream",
     "text": [
      "2\n",
      "ok\n"
     ]
    }
   ],
   "source": [
    "flodiv_val = val_1 // val_2 # overloading the division (floor) operator\n",
    "print(flodiv_val)\n",
    "if str(flodiv_val) == '2':\n",
    "    print('ok')\n",
    "else:\n",
    "    print('Error: test failed!')"
   ]
  },
  {
   "cell_type": "code",
   "execution_count": 14,
   "id": "32534375",
   "metadata": {},
   "outputs": [
    {
     "name": "stdout",
     "output_type": "stream",
     "text": [
      "1/9\n",
      "9/1\n",
      "ok\n"
     ]
    }
   ],
   "source": [
    "pow_val_1 = val_2 ** 2 # overloading the power operator (first test)\n",
    "pow_val_2 = val_2 ** (-2) # overloading the power operator (second test)\n",
    "#pow_val_3 = val_2 ** 2. # overloading the power operator (error test)\n",
    "\n",
    "print(pow_val_1)\n",
    "print(pow_val_2)\n",
    "if (str(pow_val_1) == '1/9') and (str(pow_val_2) == '9/1'):\n",
    "    print('ok')\n",
    "else:\n",
    "    print('Error: test failed!')"
   ]
  },
  {
   "cell_type": "code",
   "execution_count": 15,
   "id": "03928976",
   "metadata": {
    "scrolled": true
   },
   "outputs": [
    {
     "name": "stdout",
     "output_type": "stream",
     "text": [
      "1/12\n",
      "ok\n"
     ]
    }
   ],
   "source": [
    "mod_val = val_1 % val_2 # overloading the modulus operator\n",
    "print(mod_val)\n",
    "if str(mod_val) == '1/12':\n",
    "    print('ok')\n",
    "else:\n",
    "    print('Error: test failed!')"
   ]
  },
  {
   "cell_type": "markdown",
   "id": "a594fb53",
   "metadata": {},
   "source": [
    "### Tests on the comparison dundler operators"
   ]
  },
  {
   "cell_type": "code",
   "execution_count": 16,
   "id": "cc718a72",
   "metadata": {},
   "outputs": [],
   "source": [
    "val_3 = exercise_4.rational_handler(5/6) # creating an istance of the class\n",
    "val_4 = exercise_4.rational_handler(7/29) # creating an other istance of the class"
   ]
  },
  {
   "cell_type": "code",
   "execution_count": 17,
   "id": "ad7ab708",
   "metadata": {},
   "outputs": [
    {
     "name": "stdout",
     "output_type": "stream",
     "text": [
      "ok\n"
     ]
    }
   ],
   "source": [
    "if not val_3 == val_4: # overloading the equal to operator\n",
    "    print('ok')\n",
    "else:\n",
    "    print('Error: test failed!')"
   ]
  },
  {
   "cell_type": "code",
   "execution_count": 18,
   "id": "cb7092a9",
   "metadata": {},
   "outputs": [
    {
     "name": "stdout",
     "output_type": "stream",
     "text": [
      "ok\n"
     ]
    }
   ],
   "source": [
    "if val_3 != val_4: # overloading the not equal to operator\n",
    "    print('ok')\n",
    "else:\n",
    "    print('Error: test failed!')"
   ]
  },
  {
   "cell_type": "code",
   "execution_count": 19,
   "id": "1fbf7a0f",
   "metadata": {},
   "outputs": [
    {
     "name": "stdout",
     "output_type": "stream",
     "text": [
      "ok\n"
     ]
    }
   ],
   "source": [
    "if not val_3 < val_4: # overloading the less than operator\n",
    "    print('ok')\n",
    "else:\n",
    "    print('Error: test failed!')"
   ]
  },
  {
   "cell_type": "code",
   "execution_count": 20,
   "id": "53467841",
   "metadata": {},
   "outputs": [
    {
     "name": "stdout",
     "output_type": "stream",
     "text": [
      "ok\n"
     ]
    }
   ],
   "source": [
    "if val_3 > val_4: # overloading the greater than operator\n",
    "    print('ok')\n",
    "else:\n",
    "    print('Error: test failed!')"
   ]
  },
  {
   "cell_type": "code",
   "execution_count": 21,
   "id": "4ffce6e2",
   "metadata": {},
   "outputs": [
    {
     "name": "stdout",
     "output_type": "stream",
     "text": [
      "ok\n"
     ]
    }
   ],
   "source": [
    "if not val_3 <= val_4: # overloading the less than or equal to operator\n",
    "    print('ok')\n",
    "else:\n",
    "    print('Error: test failed!')"
   ]
  },
  {
   "cell_type": "code",
   "execution_count": 22,
   "id": "13e98680",
   "metadata": {},
   "outputs": [
    {
     "name": "stdout",
     "output_type": "stream",
     "text": [
      "ok\n"
     ]
    }
   ],
   "source": [
    "if val_3 >= val_4: # overloading the greater than or equal to operator\n",
    "    print('ok')\n",
    "else:\n",
    "    print('Error: test failed!')"
   ]
  },
  {
   "cell_type": "markdown",
   "id": "bc88bc0b",
   "metadata": {},
   "source": [
    "### Tests on the fraction simplification"
   ]
  },
  {
   "cell_type": "code",
   "execution_count": 23,
   "id": "7dc71691",
   "metadata": {},
   "outputs": [
    {
     "name": "stdout",
     "output_type": "stream",
     "text": [
      "ok\n"
     ]
    }
   ],
   "source": [
    "simplification_instances = exercise_4.rational_handler(21/36) # creating an istance of the class\n",
    "\n",
    "numerator, denominator = simplification_instances.simplify_fraction(21, 36) # test\n",
    "if (numerator, denominator) ==  (7, 12):\n",
    "    print('ok')\n",
    "else:\n",
    "    print('Error: test failed')"
   ]
  },
  {
   "cell_type": "code",
   "execution_count": 24,
   "id": "369f9af4",
   "metadata": {
    "scrolled": true
   },
   "outputs": [
    {
     "name": "stdout",
     "output_type": "stream",
     "text": [
      "ok\n"
     ]
    }
   ],
   "source": [
    "simplification_instances = exercise_4.rational_handler(-64/36) # creating an istance of the class\n",
    "\n",
    "numerator, denominator = simplification_instances.simplify_fraction(-64, 36) # test\n",
    "if (numerator, denominator) ==  (-16, 9):\n",
    "    print('ok')\n",
    "else:\n",
    "    print('Error: test failed')"
   ]
  },
  {
   "cell_type": "markdown",
   "id": "83ad3943",
   "metadata": {},
   "source": [
    "### Tests on the continued fraction approximation algorithm"
   ]
  },
  {
   "cell_type": "code",
   "execution_count": 25,
   "id": "4f34df7d",
   "metadata": {},
   "outputs": [
    {
     "name": "stdout",
     "output_type": "stream",
     "text": [
      "2.667641894049666e-07\n",
      "ok\n"
     ]
    }
   ],
   "source": [
    "rational_pi = exercise_4.rational_handler(math.pi) # creating an istance of the class\n",
    "\n",
    "numerator, denominator = rational_pi.approximate_rational(math.pi) # test\n",
    "print((numerator/denominator) - math.pi) # precision\n",
    "if (numerator, denominator) ==  (355, 113):\n",
    "    print('ok')\n",
    "else:\n",
    "    print('Error: test failed')"
   ]
  },
  {
   "cell_type": "code",
   "execution_count": 26,
   "id": "3293d6a7",
   "metadata": {},
   "outputs": [
    {
     "name": "stdout",
     "output_type": "stream",
     "text": [
      "-2.667641894049666e-07\n",
      "ok\n"
     ]
    }
   ],
   "source": [
    "rational_neg_pi = exercise_4.rational_handler(-math.pi) # creating an istance of the class\n",
    "\n",
    "numerator, denominator = rational_neg_pi.approximate_rational(-math.pi) # test\n",
    "print((numerator/denominator) - (-math.pi)) # precision\n",
    "if (numerator, denominator) ==  (-355, 113):\n",
    "    print('ok')\n",
    "else:\n",
    "    print('Error: test failed')"
   ]
  },
  {
   "cell_type": "code",
   "execution_count": 27,
   "id": "e7fab47a",
   "metadata": {},
   "outputs": [
    {
     "name": "stdout",
     "output_type": "stream",
     "text": [
      "-2.2585665719887515e-06\n",
      "ok\n"
     ]
    }
   ],
   "source": [
    "rational_e = exercise_4.rational_handler(math.e) # creating an istance of the class\n",
    "\n",
    "numerator, denominator = rational_e.approximate_rational(math.e)\n",
    "print((numerator/denominator) - math.e) # precision\n",
    "if (numerator, denominator) == (1264, 465):\n",
    "    print('ok')\n",
    "else:\n",
    "    print('Error: test failed')"
   ]
  },
  {
   "cell_type": "code",
   "execution_count": 28,
   "id": "1eb11c54",
   "metadata": {},
   "outputs": [
    {
     "name": "stdout",
     "output_type": "stream",
     "text": [
      "2.2585665719887515e-06\n",
      "ok\n"
     ]
    }
   ],
   "source": [
    "rational_neg_e = exercise_4.rational_handler(-math.e) # creating an istance of the class\n",
    "\n",
    "numerator, denominator = rational_neg_e.approximate_rational(-math.e) # test\n",
    "print((numerator/denominator) - (-math.e)) # precision\n",
    "if (numerator, denominator) == (-1264, 465):\n",
    "    print('ok')\n",
    "else:\n",
    "    print('Error: test failed')"
   ]
  },
  {
   "cell_type": "code",
   "execution_count": null,
   "id": "e5d27cf5",
   "metadata": {},
   "outputs": [],
   "source": []
  }
 ],
 "metadata": {
  "kernelspec": {
   "display_name": "Python 3 (ipykernel)",
   "language": "python",
   "name": "python3"
  },
  "language_info": {
   "codemirror_mode": {
    "name": "ipython",
    "version": 3
   },
   "file_extension": ".py",
   "mimetype": "text/x-python",
   "name": "python",
   "nbconvert_exporter": "python",
   "pygments_lexer": "ipython3",
   "version": "3.9.7"
  }
 },
 "nbformat": 4,
 "nbformat_minor": 5
}
