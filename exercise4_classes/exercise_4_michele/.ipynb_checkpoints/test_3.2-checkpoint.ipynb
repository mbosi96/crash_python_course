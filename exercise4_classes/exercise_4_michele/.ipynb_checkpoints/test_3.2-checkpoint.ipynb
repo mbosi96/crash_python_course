{
 "cells": [
  {
   "cell_type": "markdown",
   "id": "8d35c85b",
   "metadata": {},
   "source": [
    "## Exercise 3.1"
   ]
  },
  {
   "cell_type": "code",
   "execution_count": null,
   "id": "38a4362d",
   "metadata": {},
   "outputs": [],
   "source": [
    "integer_to_be_checked = input('Enter a number to determine whether it is divisible by 2, 3, 5, or 7')\n",
    "type(integer_to_be_checked)"
   ]
  },
  {
   "cell_type": "code",
   "execution_count": null,
   "id": "6bc812cd",
   "metadata": {
    "scrolled": true
   },
   "outputs": [],
   "source": [
    "2%0"
   ]
  },
  {
   "cell_type": "code",
   "execution_count": null,
   "id": "39ff2dd4",
   "metadata": {},
   "outputs": [],
   "source": [
    "userInput = '2'\n",
    "try:\n",
    "    val = int(userInput)\n",
    "except ValueError:\n",
    "    print(\"That's not an int!\")"
   ]
  },
  {
   "cell_type": "code",
   "execution_count": null,
   "id": "89a5cf34",
   "metadata": {},
   "outputs": [],
   "source": [
    "integer_to_be_checked = input('Enter a number to determine whether it is divisible by 2, 3, 5, or 7.')\n",
    "divisor_list = [2,3,5,7]\n",
    "\n",
    "if type(integer_to_be_checked) == int: #checking if the input is an integer number \n",
    "    \n",
    "    for index_div in range(len(divisor_list)): #checking the divisibility of the input integer number\n",
    "        rest = integer_to_be_checked%divisor_list[index_div]\n",
    "        if rest == 0:\n",
    "            print ('The number is divisible.')    \n",
    "        else:\n",
    "            continue\n",
    "    if rest != 0:\n",
    "        print('The input number is not divisible by 2, 3, 5, or 7.')\n",
    "            \n",
    "else:\n",
    "    print('ERROR: the input number must be an integer.')"
   ]
  },
  {
   "cell_type": "markdown",
   "id": "fd83ae65",
   "metadata": {},
   "source": [
    "## Exercise 3.2"
   ]
  },
  {
   "cell_type": "code",
   "execution_count": 10,
   "id": "369b0d43",
   "metadata": {},
   "outputs": [
    {
     "data": {
      "text/plain": [
       "[0, 1, 1, 2, 3, 5, 8, 13, 21, 34, 55, 89, 144, 233, 377]"
      ]
     },
     "execution_count": 10,
     "metadata": {},
     "output_type": "execute_result"
    }
   ],
   "source": [
    "cache = {0: 0, 1: 1}\n",
    "\n",
    "def fibonacci_of(n):\n",
    "    if n in cache:  # Base case\n",
    "        return cache[n]\n",
    "    # Compute and cadche the Fibonacci number\n",
    "    cache[n] = fibonacci_of(n - 1) + fibonacci_of(n - 2)  # Recursive case\n",
    "    return cache[n]\n",
    "\n",
    "[fibonacci_of(n) for n in range(15)]"
   ]
  },
  {
   "cell_type": "code",
   "execution_count": 11,
   "id": "ea050c88",
   "metadata": {},
   "outputs": [
    {
     "data": {
      "text/plain": [
       "377"
      ]
     },
     "execution_count": 11,
     "metadata": {},
     "output_type": "execute_result"
    }
   ],
   "source": [
    "fibonacci_of(14)"
   ]
  },
  {
   "cell_type": "code",
   "execution_count": 36,
   "id": "bbf2387d",
   "metadata": {},
   "outputs": [],
   "source": [
    "def calculate_fibonacci_sequence(n):\n",
    "    \n",
    "    \"\"\"function that calculates the Fibonacci sequence up to the n-th term\n",
    "\n",
    "    Parameters\n",
    "    ----------\n",
    "    n : int \n",
    "        index of the n-th term of the sequence\n",
    "\n",
    "    Returns\n",
    "    -------\n",
    "    : list\n",
    "        a list with the Fibonacci sequence\n",
    "    \"\"\"\n",
    "    \n",
    "    if not (isinstance(n, int) and n >= 0):\n",
    "            raise ValueError(f'Positive integer number expected, got \"{n}\"') # checking the input\n",
    "    fib_dict = {0: 0, 1: 1} # starting dictionary\n",
    "    \n",
    "    def calculate_fibonacci_number(n):\n",
    "        \n",
    "        \"\"\"function that calculates the n-th Fibonacci number\n",
    "\n",
    "        Parameters\n",
    "        ----------\n",
    "        n : int \n",
    "            index of the n-th term of the sequence\n",
    "\n",
    "        Returns\n",
    "        -------\n",
    "        : int\n",
    "           the n-th Fibonacci number\n",
    "        \"\"\"\n",
    "        \n",
    "        if n in fib_dict:\n",
    "            return fib_dict[n] # returning the base case\n",
    "        fib_dict[n] = calculate_fibonacci_number(n - 1) + calculate_fibonacci_number(n-2)  # using recursion \n",
    "        return fib_dict[n]\n",
    "    \n",
    "    calculate_fibonacci_number(n) # calculating the n-th Fibonacci number\n",
    "    ret_list = list(fib_dict.values()) # list up to the n-th term\n",
    "    \n",
    "    return ret_list # returning the Fibonacci sequence up to the n-th term\n",
    "\n",
    "\n",
    "def _test1 (input_list) :\n",
    "    \n",
    "    \"\"\"function that creates a new list containing only the elements with even index in the input list\n",
    "\n",
    "    Parameters\n",
    "    ----------\n",
    "    : list\n",
    "        a list\n",
    "\n",
    "    Returns\n",
    "    -------\n",
    "    : list\n",
    "        a list\n",
    "    \"\"\"\n",
    "    \n",
    "    even_el_list = [even_el for even_el in input_list if not even_el%2]\n",
    "    \n",
    "    return even_el_list\n",
    "\n",
    "\n",
    "def _test2 (input_list) :\n",
    "    \n",
    "    \"\"\"function that creates a new list containing only the elements with odd index in the input list\n",
    "\n",
    "    Parameters\n",
    "    ----------\n",
    "    : list\n",
    "        a list\n",
    "\n",
    "    Returns\n",
    "    -------\n",
    "    : list\n",
    "        a list\n",
    "    \"\"\"\n",
    "    \n",
    "    odd_el_list = [odd_el for odd_el in input_list if odd_el%2]\n",
    "    \n",
    "    return odd_el_list"
   ]
  },
  {
   "cell_type": "code",
   "execution_count": 37,
   "id": "7e978149",
   "metadata": {
    "scrolled": true
   },
   "outputs": [],
   "source": [
    "if __name__ == '__main__' :\n",
    "    fib_seq = calculate_fibonacci_sequence(14) # list with the elemnts of the sequence\n",
    "    fib_even_seq = _test1(fib_seq) # sublist containing only the elements with even index\n",
    "    fib_odd_seq = _test2(fib_seq) # sublist containing only the elements with odd index\n",
    "    if not (fib_seq == sorted(fib_even_seq + fib_odd_seq)):\n",
    "            raise ValueError(f'Positive integer number expected, got \"{n}\"') # checking the input\n"
   ]
  },
  {
   "cell_type": "code",
   "execution_count": 38,
   "id": "a655a487",
   "metadata": {},
   "outputs": [
    {
     "data": {
      "text/plain": [
       "([0, 1, 1, 2, 3, 5, 8, 13, 21, 34, 55, 89, 144, 233, 377],\n",
       " [0, 2, 8, 34, 144],\n",
       " [1, 1, 3, 5, 13, 21, 55, 89, 233, 377])"
      ]
     },
     "execution_count": 38,
     "metadata": {},
     "output_type": "execute_result"
    }
   ],
   "source": [
    "fib_seq, fib_even_seq, fib_odd_seq"
   ]
  },
  {
   "cell_type": "code",
   "execution_count": 41,
   "id": "6ae04305",
   "metadata": {},
   "outputs": [
    {
     "data": {
      "text/plain": [
       "True"
      ]
     },
     "execution_count": 41,
     "metadata": {},
     "output_type": "execute_result"
    }
   ],
   "source": [
    "sorted(fib_even_seq + fib_odd_seq) == fib_seq"
   ]
  },
  {
   "cell_type": "code",
   "execution_count": null,
   "id": "9ba6fcf7",
   "metadata": {},
   "outputs": [],
   "source": []
  }
 ],
 "metadata": {
  "kernelspec": {
   "display_name": "Python 3 (ipykernel)",
   "language": "python",
   "name": "python3"
  },
  "language_info": {
   "codemirror_mode": {
    "name": "ipython",
    "version": 3
   },
   "file_extension": ".py",
   "mimetype": "text/x-python",
   "name": "python",
   "nbconvert_exporter": "python",
   "pygments_lexer": "ipython3",
   "version": "3.9.7"
  }
 },
 "nbformat": 4,
 "nbformat_minor": 5
}
